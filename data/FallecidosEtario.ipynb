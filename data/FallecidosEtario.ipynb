{
 "cells": [
  {
   "cell_type": "code",
   "execution_count": 3,
   "source": [
    "import pandas as pd\r\n",
    "import matplotlib.pyplot as plt"
   ],
   "outputs": [
    {
     "output_type": "stream",
     "name": "stderr",
     "text": [
      "Matplotlib is building the font cache; this may take a moment.\n"
     ]
    }
   ],
   "metadata": {}
  },
  {
   "cell_type": "code",
   "execution_count": 4,
   "source": [
    "# Lectura del dataset (Fallecidos por covid ETARIO)\r\n",
    "try:\r\n",
    "    data = pd.read_csv('https://raw.githubusercontent.com/MinCiencia/Datos-COVID19/master/output/producto10/FallecidosEtario.csv')\r\n",
    "except Exception as Error:\r\n",
    "    print('Hubo un error en la lectura del dataset ', Error)"
   ],
   "outputs": [],
   "metadata": {}
  },
  {
   "cell_type": "code",
   "execution_count": 5,
   "source": [
    "# Obtener ultima columna...\r\n",
    "ultima_columna = data.iloc[: , -1:]\r\n",
    "fecha_ultima_columna = ultima_columna.columns[0]"
   ],
   "outputs": [],
   "metadata": {}
  },
  {
   "cell_type": "code",
   "execution_count": 6,
   "source": [
    "menorIgual_39 = data[fecha_ultima_columna][0]\r\n",
    "edadEntre40_49 = data[fecha_ultima_columna][1]\r\n",
    "edadEntre50_59 = data[fecha_ultima_columna][2]\r\n",
    "edadEntre60_69 = data[fecha_ultima_columna][3]\r\n",
    "edadEntre70_79 = data[fecha_ultima_columna][4]\r\n",
    "edadEntre80_89 = data[fecha_ultima_columna][5]\r\n",
    "mayorIgual_90 = data[fecha_ultima_columna][6]"
   ],
   "outputs": [],
   "metadata": {}
  },
  {
   "cell_type": "code",
   "execution_count": 10,
   "source": [
    "x = ['<=39', '40-49', '50-59', '60-69', '70-79', '80-89', '>=90']\r\n",
    "y = [menorIgual_39, edadEntre40_49, edadEntre50_59, edadEntre60_69, edadEntre70_79, edadEntre80_89, mayorIgual_90]\r\n",
    "\r\n",
    "plt.bar(x, y, color='yellow')\r\n",
    "plt.ylabel('Fallecidos')\r\n",
    "plt.xlabel('Edad')\r\n",
    "plt.title('Fallecidos por el covid-19 por grupos etarios.')"
   ],
   "outputs": [
    {
     "output_type": "execute_result",
     "data": {
      "text/plain": [
       "Text(0.5, 1.0, 'Fallecidos por el covid-19 por grupos etarios.')"
      ]
     },
     "metadata": {},
     "execution_count": 10
    },
    {
     "output_type": "display_data",
     "data": {
      "image/png": "[encoded data removed]",
      "text/plain": [
       "<Figure size 432x288 with 1 Axes>"
      ]
     },
     "metadata": {
      "needs_background": "light"
     }
    }
   ],
   "metadata": {}
  }
 ],
 "metadata": {
  "orig_nbformat": 4,
  "language_info": {
   "name": "python",
   "version": "3.9.7",
   "mimetype": "text/x-python",
   "codemirror_mode": {
    "name": "ipython",
    "version": 3
   },
   "pygments_lexer": "ipython3",
   "nbconvert_exporter": "python",
   "file_extension": ".py"
  },
  "kernelspec": {
   "name": "python3",
   "display_name": "Python 3.9.7 64-bit"
  },
  "interpreter": {
   "hash": "56fb72d34bd0c2b0c93a7ae1347affaf99190f31b81362df8a48c1a997a96b34"
  }
 },
 "nbformat": 4,
 "nbformat_minor": 2
}
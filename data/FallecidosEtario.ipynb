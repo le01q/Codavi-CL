{
 "cells": [
  {
   "cell_type": "code",
   "execution_count": null,
   "source": [
    "import pandas as pd\r\n",
    "import matplotlib.pyplot as plt"
   ],
   "outputs": [],
   "metadata": {}
  },
  {
   "cell_type": "code",
   "execution_count": null,
   "source": [
    "# Lectura del dataset (Fallecidos por covid ETARIO)\r\n",
    "try:\r\n",
    "    data = pd.read_csv('https://raw.githubusercontent.com/MinCiencia/Datos-COVID19/master/output/producto10/FallecidosEtario.csv')\r\n",
    "except Exception as Error:\r\n",
    "    print('Hubo un error en la lectura del dataset ', Error)"
   ],
   "outputs": [],
   "metadata": {}
  },
  {
   "cell_type": "code",
   "execution_count": null,
   "source": [
    "# Obtener ultima columna...\r\n",
    "ultima_columna = data.iloc[: , -1:]\r\n",
    "fecha_ultima_columna = ultima_columna.columns[0]"
   ],
   "outputs": [],
   "metadata": {}
  },
  {
   "cell_type": "code",
   "execution_count": null,
   "source": [
    "menorIgual_39 = data[fecha_ultima_columna][0]\r\n",
    "edadEntre40_49 = data[fecha_ultima_columna][1]\r\n",
    "edadEntre50_59 = data[fecha_ultima_columna][2]\r\n",
    "edadEntre60_69 = data[fecha_ultima_columna][3]\r\n",
    "edadEntre70_79 = data[fecha_ultima_columna][4]\r\n",
    "edadEntre80_89 = data[fecha_ultima_columna][5]\r\n",
    "mayorIgual_90 = data[fecha_ultima_columna][6]"
   ],
   "outputs": [],
   "metadata": {}
  },
  {
   "cell_type": "code",
   "execution_count": null,
   "source": [
    "x = ['Menor o igual a 39', 'Entre 40 y 49', 'Entre 50 y 59', 'Entre 60 y 69', 'Entre 70 y 79', 'Entre 80 y 89', 'Mayor o igual a 90']\r\n",
    "y = [menorIgual_39, edadEntre40_49, edadEntre50_59, edadEntre60_69, edadEntre70_79, edadEntre80_89, mayorIgual_90]\r\n",
    "\r\n",
    "plt.bar(a, b, color='yellow')\r\n",
    "plt.ylabel('Grupos de edad')\r\n",
    "plt.xlabel('Fallecidos')\r\n",
    "plt.title('Fallecidos por el covid-19 por grupos etarios.')"
   ],
   "outputs": [],
   "metadata": {}
  }
 ],
 "metadata": {
  "orig_nbformat": 4,
  "language_info": {
   "name": "python",
   "version": "3.9.7",
   "mimetype": "text/x-python",
   "codemirror_mode": {
    "name": "ipython",
    "version": 3
   },
   "pygments_lexer": "ipython3",
   "nbconvert_exporter": "python",
   "file_extension": ".py"
  },
  "kernelspec": {
   "name": "python3",
   "display_name": "Python 3.9.7 64-bit"
  },
  "interpreter": {
   "hash": "56fb72d34bd0c2b0c93a7ae1347affaf99190f31b81362df8a48c1a997a96b34"
  }
 },
 "nbformat": 4,
 "nbformat_minor": 2
}
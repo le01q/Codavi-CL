{
 "cells": [
  {
   "cell_type": "code",
   "execution_count": 1,
   "source": [
    "import pandas as pd\r\n",
    "import matplotlib.pyplot as plt"
   ],
   "outputs": [],
   "metadata": {}
  },
  {
   "cell_type": "code",
   "execution_count": 2,
   "source": [
    "# Lee el dataset de vacunacion\r\n",
    "try:\r\n",
    "    data = pd.read_csv('https://raw.githubusercontent.com/MinCiencia/Datos-COVID19/master/output/producto76/vacunacion.csv' )\r\n",
    "except Exception as Error:\r\n",
    "    print('Hubo un error al leer el dataset', Error)"
   ],
   "outputs": [],
   "metadata": {}
  },
  {
   "cell_type": "code",
   "execution_count": 3,
   "source": [
    "# Obtiene la ultima columna\r\n",
    "ultima_columna = data.iloc[: , -1:]\r\n",
    "fecha_ultima_columna = ultima_columna.columns[0]"
   ],
   "outputs": [],
   "metadata": {}
  },
  {
   "cell_type": "code",
   "execution_count": 4,
   "source": [
    "\"\"\"\"\r\n",
    "    Busca la ultima columna y obtiene la cantidad de dosis aplicada\r\n",
    "    [0] fila primera dosis\r\n",
    "    [1] fila segunda dosis\r\n",
    "    [2] fila unica dosis\r\n",
    "    [3] fila refuerzo dosis\r\n",
    "\"\"\"\r\n",
    "\r\n",
    "primeraDosis = data[fecha_ultima_columna][0]\r\n",
    "segundaDosis = data[fecha_ultima_columna][1]\r\n",
    "unicaDosis = data[fecha_ultima_columna][2]\r\n",
    "refuerzoDosis = data[fecha_ultima_columna][3]"
   ],
   "outputs": [],
   "metadata": {}
  },
  {
   "cell_type": "code",
   "execution_count": 5,
   "source": [
    "# Creamos la gráfica de barras\r\n",
    "x = ['Primera', 'Segunda', 'Unica', 'Refuerzo']\r\n",
    "y = [primeraDosis, segundaDosis, unicaDosis, refuerzoDosis]\r\n",
    "plt.bar(x, y, color='green')\r\n",
    "plt.ylabel('Cantidad')\r\n",
    "plt.xlabel('Tipo de dosis')\r\n",
    "plt.title('Cantidad de dosis aplicadas')"
   ],
   "outputs": [
    {
     "output_type": "execute_result",
     "data": {
      "text/plain": [
       "Text(0.5, 1.0, 'Cantidad de dosis aplicadas')"
      ]
     },
     "metadata": {},
     "execution_count": 5
    },
    {
     "output_type": "display_data",
     "data": {
      "image/png": "[encoded data removed]",
      "text/plain": [
       "<Figure size 432x288 with 1 Axes>"
      ]
     },
     "metadata": {
      "needs_background": "light"
     }
    }
   ],
   "metadata": {}
  }
 ],
 "metadata": {
  "orig_nbformat": 4,
  "language_info": {
   "name": "python",
   "version": "3.9.7",
   "mimetype": "text/x-python",
   "codemirror_mode": {
    "name": "ipython",
    "version": 3
   },
   "pygments_lexer": "ipython3",
   "nbconvert_exporter": "python",
   "file_extension": ".py"
  },
  "kernelspec": {
   "name": "python3",
   "display_name": "Python 3.9.7 64-bit"
  },
  "interpreter": {
   "hash": "56fb72d34bd0c2b0c93a7ae1347affaf99190f31b81362df8a48c1a997a96b34"
  }
 },
 "nbformat": 4,
 "nbformat_minor": 2
}